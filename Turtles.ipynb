{
 "cells": [
  {
   "cell_type": "markdown",
   "metadata": {},
   "source": [
    "# Imports and Reading In CSV's"
   ]
  },
  {
   "cell_type": "code",
   "execution_count": 1,
   "metadata": {
    "ExecuteTime": {
     "end_time": "2020-03-26T18:42:25.945921Z",
     "start_time": "2020-03-26T18:42:23.960986Z"
    }
   },
   "outputs": [],
   "source": [
    "import pandas as pd\n",
    "import matplotlib.pyplot as plt\n",
    "#pd.set_option('display.max_columns', 500)\n",
    "import numpy as np"
   ]
  },
  {
   "cell_type": "code",
   "execution_count": 2,
   "metadata": {
    "ExecuteTime": {
     "end_time": "2020-03-26T18:42:26.659172Z",
     "start_time": "2020-03-26T18:42:26.534307Z"
    }
   },
   "outputs": [],
   "source": [
    "turtboth=pd.read_csv('./BHIboth.csv')\n",
    "turt19=pd.read_csv('./turtles2019.csv')"
   ]
  },
  {
   "cell_type": "markdown",
   "metadata": {},
   "source": [
    "# Renaming Columns in 2019 to Match Big Dataset\n"
   ]
  },
  {
   "cell_type": "code",
   "execution_count": 3,
   "metadata": {
    "ExecuteTime": {
     "end_time": "2020-03-26T18:42:27.571317Z",
     "start_time": "2020-03-26T18:42:27.566532Z"
    },
    "code_folding": []
   },
   "outputs": [],
   "source": [
    "#turt19.columns[:50] #getting names to change"
   ]
  },
  {
   "cell_type": "code",
   "execution_count": 4,
   "metadata": {
    "ExecuteTime": {
     "end_time": "2020-03-26T18:42:28.035855Z",
     "start_time": "2020-03-26T18:42:28.026010Z"
    },
    "code_folding": [
     0
    ]
   },
   "outputs": [],
   "source": [
    "#Renaming the Columns\n",
    "turt19.rename(columns = {'Nest #':'nest', 'Date':'date', 'Time First Observed':'time', \n",
    "    'First Action Observed':'first_action',\n",
    "    'Treatment':'treatment',\n",
    "    'Observed':'observed',\n",
    "    'Species':'species'\n",
    "    'Legacy Name(Tag Name)', \n",
    "    'Genetic Code':'dna_id',\n",
    "    'PIT - 1':'PIT', \n",
    "    'A/E':'AE1', \n",
    "    'A/E.1':'AE2',\n",
    "    'A/E.2':'AE3',\n",
    "    'CNT(cm)':'CNT', \n",
    "    'CNN(cm)':'CNN',\n",
    "    'CW(cm)':'CW', \n",
    "    'SNT(cm)':'SNT',\n",
    "    'SNN(cm)':'SNN',\n",
    "    'SW(cm)':'SW', \n",
    "    'Biopsy(#)':'biopsy',\n",
    "    'Hatch Date':'hatchdate',\n",
    "    'Incubation ':'incubation', \n",
    "    'Rel. Eggs':'rel_eggs',\n",
    "    'Eggs Taken/Broken':'eggs_taken',\n",
    "    'Hatched Eggs':'hatched', \n",
    "    'Unhatched':'unhatched',\n",
    "    'No discernible embryo':'no_embryo', \n",
    "    'Embryo':'embryo', \n",
    "    'Live ':'live', \n",
    "    'Dead':'dead', \n",
    "    'Pipped':'pipped',\n",
    "    'Total Clutch ':'total_eggs', \n",
    "    'Hatch Success':'hatchsuccess', \n",
    "    'Emerge Success':'emergesuccess',\n",
    "    'Dist. High Tide Line (m)':'disHT',\n",
    "    #'Dist. Veg. (m)':'disVeg',\n",
    "    'Rel Dist. High Tide Line':'disHT2',\n",
    "    'Exit Time':'exit_time',\n",
    "    'Goforth nest?':'goforth', \n",
    "    'Comments ':'comments',\n",
    "    #dist. Tide Line(m)\n",
    "    #eggs predated\n",
    "    #excavation date\n",
    "    #eggs in situ              \n",
    "    }, inplace = True) "
   ]
  },
  {
   "cell_type": "code",
   "execution_count": 5,
   "metadata": {
    "ExecuteTime": {
     "end_time": "2020-03-26T18:42:28.634284Z",
     "start_time": "2020-03-26T18:42:28.625074Z"
    }
   },
   "outputs": [],
   "source": [
    "#Create a copy so don't mess up any original data\n",
    "turt=turt19.copy()\n",
    "\n",
    "#drop empty rows\n",
    "turt=turt.drop(turt.columns[49:139], axis=1)"
   ]
  },
  {
   "cell_type": "code",
   "execution_count": 6,
   "metadata": {
    "ExecuteTime": {
     "end_time": "2020-03-26T18:42:29.629755Z",
     "start_time": "2020-03-26T18:42:29.621127Z"
    }
   },
   "outputs": [],
   "source": [
    "#Year=2019 for 2019\n",
    "turt['year']=2019"
   ]
  },
  {
   "cell_type": "code",
   "execution_count": 7,
   "metadata": {
    "ExecuteTime": {
     "end_time": "2020-03-26T18:42:33.630141Z",
     "start_time": "2020-03-26T18:42:33.625147Z"
    }
   },
   "outputs": [],
   "source": [
    "#turt.head()"
   ]
  },
  {
   "cell_type": "markdown",
   "metadata": {},
   "source": [
    "# Apply Conditional Logic to Columns"
   ]
  },
  {
   "cell_type": "code",
   "execution_count": 8,
   "metadata": {
    "ExecuteTime": {
     "end_time": "2020-03-26T18:42:34.601674Z",
     "start_time": "2020-03-26T18:42:34.588545Z"
    },
    "code_folding": [
     0
    ]
   },
   "outputs": [
    {
     "data": {
      "text/plain": [
       "Relocated    44\n",
       "Name: treatment, dtype: int64"
      ]
     },
     "execution_count": 8,
     "metadata": {},
     "output_type": "execute_result"
    }
   ],
   "source": [
    "#Make sure treatment is Only \"relocated\" and \"nan\"\n",
    "turt.treatment.value_counts()"
   ]
  },
  {
   "cell_type": "code",
   "execution_count": 9,
   "metadata": {
    "ExecuteTime": {
     "end_time": "2020-03-26T18:42:35.611400Z",
     "start_time": "2020-03-26T18:42:35.562071Z"
    },
    "code_folding": []
   },
   "outputs": [],
   "source": [
    "#IF TREATMENT IS RELOCATED\n",
    "turt['orig_lat'] = turt['Incubation Lat']\n",
    "turt.loc[turt['treatment'] == 'Relocated', 'orig_lat'] = ''\n",
    "\n",
    "turt['orig_long'] = turt['Incubation Long']\n",
    "turt.loc[turt['treatment'] == 'Relocated', 'orig_long'] = ''\n",
    "\n",
    "turt['orig_beach'] = turt['Location']\n",
    "turt.loc[turt['treatment'] == 'Relocated', 'orig_beach'] = ''\n",
    "\n",
    "turt['disVeg'] = turt['Dist. Veg. (m)']\n",
    "turt.loc[turt['treatment'] == 'Relocated', 'disVeg'] = ''\n",
    "\n",
    "#IF TREATMENT IS NOT RELOCATED\n",
    "turt['final_lat'] = turt['Incubation Lat']\n",
    "turt.loc[turt['treatment'] != 'Relocated', 'final_lat'] = ''\n",
    "\n",
    "turt['final_long'] = turt['Incubation Long']\n",
    "turt.loc[turt['treatment'] != 'Relocated', 'final_long'] = ''\n",
    "\n",
    "turt['reloc_beach'] = turt['Location']\n",
    "turt.loc[turt['treatment'] != 'Relocated', 'reloc_beach'] = ''\n",
    "\n",
    "turt['disVeg2'] = turt['Dist. Veg. (m)']\n",
    "turt.loc[turt['treatment'] != 'Relocated', 'disVeg2'] = ''\n",
    "\n",
    "#turt.head(3)"
   ]
  },
  {
   "cell_type": "code",
   "execution_count": null,
   "metadata": {},
   "outputs": [],
   "source": [
    "# df['species'] = ['Cc' if x == 'Cc'  for x in df['speciesLegacy Name(Tag Name)']]\n",
    "\n",
    "\n"
   ]
  },
  {
   "cell_type": "markdown",
   "metadata": {},
   "source": [
    "# Merge BHICBOTH with 2019 "
   ]
  },
  {
   "cell_type": "code",
   "execution_count": null,
   "metadata": {},
   "outputs": [],
   "source": []
  },
  {
   "cell_type": "code",
   "execution_count": 10,
   "metadata": {
    "ExecuteTime": {
     "end_time": "2020-03-26T18:42:40.043239Z",
     "start_time": "2020-03-26T18:42:40.007452Z"
    }
   },
   "outputs": [],
   "source": [
    "big = pd.concat([turtboth, turt], sort='False')\n"
   ]
  },
  {
   "cell_type": "code",
   "execution_count": 22,
   "metadata": {
    "ExecuteTime": {
     "end_time": "2020-03-26T18:54:05.118669Z",
     "start_time": "2020-03-26T18:54:05.101738Z"
    }
   },
   "outputs": [
    {
     "name": "stdout",
     "output_type": "stream",
     "text": [
      "<class 'pandas.core.frame.DataFrame'>\n",
      "Int64Index: 3784 entries, 0 to 232\n",
      "Data columns (total 68 columns):\n",
      "AE1                              814 non-null object\n",
      "AE2                              1384 non-null object\n",
      "AE3                              1376 non-null object\n",
      "CNN                              853 non-null float64\n",
      "CNT                              2371 non-null float64\n",
      "CW                               2377 non-null float64\n",
      "Dist. Tide Line (m)              138 non-null object\n",
      "Dist. Veg. (m)                   167 non-null object\n",
      "Eggs in situ                     29 non-null float64\n",
      "EggsPredated                     170 non-null float64\n",
      "Excavation Date                  167 non-null object\n",
      "Incubation Lat                   168 non-null float64\n",
      "Incubation Long                  168 non-null float64\n",
      "LFF                              1807 non-null object\n",
      "Legacy Name        (Tag Name)    170 non-null object\n",
      "Location                         170 non-null object\n",
      "PIT                              905 non-null object\n",
      "RFF                              1783 non-null object\n",
      "SNN                              794 non-null float64\n",
      "SNT                              1741 non-null float64\n",
      "SW                               1752 non-null object\n",
      "access                           2440 non-null object\n",
      "biopsy                           687 non-null object\n",
      "comments                         1776 non-null object\n",
      "date                             3685 non-null object\n",
      "dead                             2380 non-null float64\n",
      "disHT                            1313 non-null object\n",
      "disHT2                           132 non-null float64\n",
      "disVeg                           494 non-null object\n",
      "disVeg2                          329 non-null object\n",
      "dna_id                           142 non-null object\n",
      "eggs_taken                       1436 non-null float64\n",
      "embryo                           193 non-null float64\n",
      "emergesuccess                    1136 non-null object\n",
      "exit_time                        242 non-null object\n",
      "final_access                     52 non-null object\n",
      "final_acess                      2831 non-null object\n",
      "final_lat                        1740 non-null object\n",
      "final_long                       1740 non-null object\n",
      "first_action                     253 non-null object\n",
      "goforth                          51 non-null object\n",
      "hatchdate                        2381 non-null object\n",
      "hatched                          3151 non-null float64\n",
      "hatchsuccess                     1182 non-null object\n",
      "incubation                       2518 non-null float64\n",
      "live                             2485 non-null float64\n",
      "nest                             3721 non-null float64\n",
      "no_embryo                        194 non-null object\n",
      "observed                         2812 non-null object\n",
      "orig_beach                       878 non-null object\n",
      "orig_lat                         1679 non-null object\n",
      "orig_long                        1680 non-null object\n",
      "pipped                           2067 non-null float64\n",
      "prev_tags                        33 non-null object\n",
      "rel_eggs                         1543 non-null float64\n",
      "reloc_access                     1034 non-null object\n",
      "reloc_beach                      406 non-null object\n",
      "reloc_lat                        413 non-null float64\n",
      "reloc_long                       414 non-null float64\n",
      "returning_turtle                 39 non-null object\n",
      "species                          2361 non-null object\n",
      "speciesLegacy Name(Tag Name)     170 non-null object\n",
      "tags                             74 non-null object\n",
      "time                             3023 non-null object\n",
      "total_eggs                       1182 non-null float64\n",
      "treatment                        3595 non-null object\n",
      "unhatched                        2735 non-null float64\n",
      "year                             3748 non-null float64\n",
      "dtypes: float64(24), object(44)\n",
      "memory usage: 2.0+ MB\n"
     ]
    }
   ],
   "source": [
    "big.info()"
   ]
  },
  {
   "cell_type": "code",
   "execution_count": 29,
   "metadata": {
    "ExecuteTime": {
     "end_time": "2020-03-26T18:57:04.465612Z",
     "start_time": "2020-03-26T18:57:04.456737Z"
    }
   },
   "outputs": [
    {
     "data": {
      "text/plain": [
       "array([nan, nan, nan, ..., nan, nan, nan], dtype=object)"
      ]
     },
     "execution_count": 29,
     "metadata": {},
     "output_type": "execute_result"
    }
   ],
   "source": [
    "big['speciesLegacy Name(Tag Name)'].values"
   ]
  },
  {
   "cell_type": "code",
   "execution_count": null,
   "metadata": {
    "ExecuteTime": {
     "end_time": "2020-03-26T18:44:14.949816Z",
     "start_time": "2020-03-26T18:44:14.942386Z"
    }
   },
   "outputs": [],
   "source": []
  },
  {
   "cell_type": "markdown",
   "metadata": {},
   "source": [
    "# Data Cleaning"
   ]
  },
  {
   "cell_type": "markdown",
   "metadata": {},
   "source": [
    "## Splitting the PIT on Delimiters"
   ]
  },
  {
   "cell_type": "code",
   "execution_count": 11,
   "metadata": {
    "ExecuteTime": {
     "end_time": "2020-02-27T15:01:36.212978Z",
     "start_time": "2020-02-27T15:01:36.197378Z"
    },
    "scrolled": true
   },
   "outputs": [],
   "source": [
    "a=big.PIT.str.split(';|&', expand=True)\n",
    "a.rename(columns = {0:'PIT1'}, inplace = True) \n",
    "a.rename(columns = {1:'PIT2'}, inplace = True) \n",
    "#a.head(3)"
   ]
  },
  {
   "cell_type": "code",
   "execution_count": 12,
   "metadata": {
    "ExecuteTime": {
     "end_time": "2020-02-27T15:01:36.921420Z",
     "start_time": "2020-02-27T15:01:36.885917Z"
    }
   },
   "outputs": [],
   "source": [
    "big=big.join(a)\n",
    "#big.head(2)"
   ]
  },
  {
   "cell_type": "markdown",
   "metadata": {},
   "source": [
    "## Cleaning Columns"
   ]
  },
  {
   "cell_type": "code",
   "execution_count": 13,
   "metadata": {
    "ExecuteTime": {
     "end_time": "2020-02-27T15:01:37.539760Z",
     "start_time": "2020-02-27T15:01:37.527572Z"
    }
   },
   "outputs": [],
   "source": [
    "big['LFF'] = big['LFF'].astype(str)\n",
    "big['RFF'] = big['RFF'].astype(str)\n",
    "big['PIT1'] = big['PIT1'].astype(str)\n",
    "big['PIT2'] = big['PIT2'].astype(str)"
   ]
  },
  {
   "cell_type": "code",
   "execution_count": null,
   "metadata": {},
   "outputs": [],
   "source": []
  },
  {
   "cell_type": "code",
   "execution_count": 17,
   "metadata": {
    "ExecuteTime": {
     "end_time": "2020-02-27T15:11:56.725871Z",
     "start_time": "2020-02-27T15:11:56.708374Z"
    }
   },
   "outputs": [],
   "source": [
    "#REMOVE SLASHES AND SPACES\n",
    "for i in big.LFF:\n",
    "    i=i.replace(\"/\",\"\")\n",
    "    i=i.strip()\n",
    "\n",
    "for i in big.RFF:\n",
    "    i=i.replace(\"/\",\"\")\n",
    "    i=i.strip()\n",
    "for i in big.PIT1:\n",
    "    i=i.replace(\"/\",\"\")\n",
    "    i=i.strip()\n",
    "for i in big.PIT2:\n",
    "    i=i.replace(\"/\",\"\")\n",
    "    i=i.strip()\n"
   ]
  },
  {
   "cell_type": "code",
   "execution_count": 29,
   "metadata": {
    "ExecuteTime": {
     "end_time": "2020-02-27T15:18:41.190338Z",
     "start_time": "2020-02-27T15:18:41.180850Z"
    }
   },
   "outputs": [],
   "source": [
    "#remove the % sign\n",
    "big['emergesuccess'] = big['emergesuccess'].astype(str)\n",
    "big['emergesuccess'] = big['emergesuccess'].str.rstrip('%').astype('float')\n"
   ]
  },
  {
   "cell_type": "code",
   "execution_count": 30,
   "metadata": {
    "ExecuteTime": {
     "end_time": "2020-02-27T15:22:36.413450Z",
     "start_time": "2020-02-27T15:22:36.409281Z"
    }
   },
   "outputs": [],
   "source": [
    "#remove the + sign\n"
   ]
  },
  {
   "cell_type": "markdown",
   "metadata": {},
   "source": [
    "# Fix Dates Formats"
   ]
  },
  {
   "cell_type": "code",
   "execution_count": 31,
   "metadata": {
    "ExecuteTime": {
     "end_time": "2020-02-27T15:22:37.648242Z",
     "start_time": "2020-02-27T15:22:37.163541Z"
    }
   },
   "outputs": [],
   "source": [
    "big['hatchdate']=pd.to_datetime(big.hatchdate)"
   ]
  },
  {
   "cell_type": "code",
   "execution_count": 32,
   "metadata": {
    "ExecuteTime": {
     "end_time": "2020-02-27T15:22:46.597370Z",
     "start_time": "2020-02-27T15:22:46.592092Z"
    }
   },
   "outputs": [],
   "source": [
    "pd.set_option('display.max_columns', None)\n"
   ]
  },
  {
   "cell_type": "code",
   "execution_count": 33,
   "metadata": {
    "ExecuteTime": {
     "end_time": "2020-02-27T15:22:48.683801Z",
     "start_time": "2020-02-27T15:22:47.854463Z"
    }
   },
   "outputs": [],
   "source": [
    "big['date']=pd.to_datetime(big.date)"
   ]
  },
  {
   "cell_type": "markdown",
   "metadata": {},
   "source": [
    "# Export to CSV"
   ]
  },
  {
   "cell_type": "code",
   "execution_count": 34,
   "metadata": {
    "ExecuteTime": {
     "end_time": "2020-02-27T15:22:51.118480Z",
     "start_time": "2020-02-27T15:22:50.804797Z"
    }
   },
   "outputs": [],
   "source": [
    "big.to_csv('big.csv', index=False)"
   ]
  },
  {
   "cell_type": "markdown",
   "metadata": {},
   "source": [
    "# Small dataframe with only tag columns"
   ]
  },
  {
   "cell_type": "code",
   "execution_count": 22,
   "metadata": {
    "ExecuteTime": {
     "end_time": "2020-02-26T15:15:58.786101Z",
     "start_time": "2020-02-26T15:15:58.749403Z"
    },
    "scrolled": true
   },
   "outputs": [
    {
     "data": {
      "text/html": [
       "<div>\n",
       "<style scoped>\n",
       "    .dataframe tbody tr th:only-of-type {\n",
       "        vertical-align: middle;\n",
       "    }\n",
       "\n",
       "    .dataframe tbody tr th {\n",
       "        vertical-align: top;\n",
       "    }\n",
       "\n",
       "    .dataframe thead th {\n",
       "        text-align: right;\n",
       "    }\n",
       "</style>\n",
       "<table border=\"1\" class=\"dataframe\">\n",
       "  <thead>\n",
       "    <tr style=\"text-align: right;\">\n",
       "      <th></th>\n",
       "      <th>year</th>\n",
       "      <th>nest</th>\n",
       "      <th>PIT1</th>\n",
       "      <th>PIT2</th>\n",
       "      <th>LFF</th>\n",
       "      <th>RFF</th>\n",
       "      <th>comments</th>\n",
       "    </tr>\n",
       "  </thead>\n",
       "  <tbody>\n",
       "    <tr>\n",
       "      <th>0</th>\n",
       "      <td>2018.0</td>\n",
       "      <td>1.0</td>\n",
       "      <td>985170002003753</td>\n",
       "      <td>425553341F</td>\n",
       "      <td>MMA933</td>\n",
       "      <td>MMA926</td>\n",
       "      <td>Mom broke one egg; false crawled 3 times befor...</td>\n",
       "    </tr>\n",
       "    <tr>\n",
       "      <th>0</th>\n",
       "      <td>2018.0</td>\n",
       "      <td>1.0</td>\n",
       "      <td>nan</td>\n",
       "      <td>nan</td>\n",
       "      <td>MMA933</td>\n",
       "      <td>MMA926</td>\n",
       "      <td>Mom broke one egg; false crawled 3 times befor...</td>\n",
       "    </tr>\n",
       "    <tr>\n",
       "      <th>0</th>\n",
       "      <td>2019.0</td>\n",
       "      <td>1.0</td>\n",
       "      <td>985170002003753</td>\n",
       "      <td>425553341F</td>\n",
       "      <td>nan</td>\n",
       "      <td>nan</td>\n",
       "      <td>First nest of the season</td>\n",
       "    </tr>\n",
       "    <tr>\n",
       "      <th>0</th>\n",
       "      <td>2019.0</td>\n",
       "      <td>1.0</td>\n",
       "      <td>nan</td>\n",
       "      <td>nan</td>\n",
       "      <td>nan</td>\n",
       "      <td>nan</td>\n",
       "      <td>First nest of the season</td>\n",
       "    </tr>\n",
       "    <tr>\n",
       "      <th>1</th>\n",
       "      <td>2018.0</td>\n",
       "      <td>2.0</td>\n",
       "      <td>470D277210</td>\n",
       "      <td>None</td>\n",
       "      <td>UUT616</td>\n",
       "      <td>MMA925</td>\n",
       "      <td>Billie; heavy rain throughout week of hatching...</td>\n",
       "    </tr>\n",
       "  </tbody>\n",
       "</table>\n",
       "</div>"
      ],
      "text/plain": [
       "     year  nest             PIT1          PIT2     LFF     RFF  \\\n",
       "0  2018.0   1.0  985170002003753    425553341F  MMA933  MMA926   \n",
       "0  2018.0   1.0              nan           nan  MMA933  MMA926   \n",
       "0  2019.0   1.0  985170002003753    425553341F     nan     nan   \n",
       "0  2019.0   1.0              nan           nan     nan     nan   \n",
       "1  2018.0   2.0       470D277210          None  UUT616  MMA925   \n",
       "\n",
       "                                            comments  \n",
       "0  Mom broke one egg; false crawled 3 times befor...  \n",
       "0  Mom broke one egg; false crawled 3 times befor...  \n",
       "0                           First nest of the season  \n",
       "0                           First nest of the season  \n",
       "1  Billie; heavy rain throughout week of hatching...  "
      ]
     },
     "execution_count": 22,
     "metadata": {},
     "output_type": "execute_result"
    }
   ],
   "source": [
    "turtles=big[['year','nest','PIT1','PIT2','LFF','RFF','comments']]\n",
    "turtles.head()"
   ]
  },
  {
   "cell_type": "markdown",
   "metadata": {},
   "source": [
    "# Getting Tags in Comments (if we want this)"
   ]
  },
  {
   "cell_type": "code",
   "execution_count": 23,
   "metadata": {
    "ExecuteTime": {
     "end_time": "2020-02-26T15:16:07.619016Z",
     "start_time": "2020-02-26T15:16:07.535476Z"
    },
    "scrolled": true
   },
   "outputs": [
    {
     "data": {
      "text/html": [
       "<div>\n",
       "<style scoped>\n",
       "    .dataframe tbody tr th:only-of-type {\n",
       "        vertical-align: middle;\n",
       "    }\n",
       "\n",
       "    .dataframe tbody tr th {\n",
       "        vertical-align: top;\n",
       "    }\n",
       "\n",
       "    .dataframe thead th {\n",
       "        text-align: right;\n",
       "    }\n",
       "</style>\n",
       "<table border=\"1\" class=\"dataframe\">\n",
       "  <thead>\n",
       "    <tr style=\"text-align: right;\">\n",
       "      <th></th>\n",
       "      <th>AE1</th>\n",
       "      <th>AE2</th>\n",
       "      <th>AE3</th>\n",
       "      <th>CNN</th>\n",
       "      <th>CNT</th>\n",
       "      <th>CW</th>\n",
       "      <th>Dist. Tide Line (m)</th>\n",
       "      <th>Dist. Veg. (m)</th>\n",
       "      <th>Eggs in situ</th>\n",
       "      <th>EggsPredated</th>\n",
       "      <th>Excavation Date</th>\n",
       "      <th>Incubation Lat</th>\n",
       "      <th>Incubation Long</th>\n",
       "      <th>LFF</th>\n",
       "      <th>Legacy Name        (Tag Name)</th>\n",
       "      <th>Location</th>\n",
       "      <th>PIT</th>\n",
       "      <th>RFF</th>\n",
       "      <th>SNN</th>\n",
       "      <th>SNT</th>\n",
       "      <th>SW</th>\n",
       "      <th>access</th>\n",
       "      <th>biopsy</th>\n",
       "      <th>comments</th>\n",
       "      <th>date</th>\n",
       "      <th>dead</th>\n",
       "      <th>disHT</th>\n",
       "      <th>disHT2</th>\n",
       "      <th>disVeg</th>\n",
       "      <th>disVeg2</th>\n",
       "      <th>dna_id</th>\n",
       "      <th>eggs_taken</th>\n",
       "      <th>embryo</th>\n",
       "      <th>emergesuccess</th>\n",
       "      <th>exit_time</th>\n",
       "      <th>final_access</th>\n",
       "      <th>final_acess</th>\n",
       "      <th>final_lat</th>\n",
       "      <th>final_long</th>\n",
       "      <th>first_action</th>\n",
       "      <th>goforth</th>\n",
       "      <th>hatchdate</th>\n",
       "      <th>hatched</th>\n",
       "      <th>hatchsuccess</th>\n",
       "      <th>incubation</th>\n",
       "      <th>live</th>\n",
       "      <th>nest</th>\n",
       "      <th>no_embryo</th>\n",
       "      <th>observed</th>\n",
       "      <th>orig_beach</th>\n",
       "      <th>orig_lat</th>\n",
       "      <th>orig_long</th>\n",
       "      <th>pipped</th>\n",
       "      <th>prev_tags</th>\n",
       "      <th>rel_eggs</th>\n",
       "      <th>reloc_access</th>\n",
       "      <th>reloc_beach</th>\n",
       "      <th>reloc_lat</th>\n",
       "      <th>reloc_long</th>\n",
       "      <th>returning_turtle</th>\n",
       "      <th>species</th>\n",
       "      <th>speciesLegacy Name(Tag Name)</th>\n",
       "      <th>tags</th>\n",
       "      <th>time</th>\n",
       "      <th>total_eggs</th>\n",
       "      <th>treatment</th>\n",
       "      <th>unhatched</th>\n",
       "      <th>year</th>\n",
       "      <th>PIT1</th>\n",
       "      <th>PIT2</th>\n",
       "      <th>look</th>\n",
       "    </tr>\n",
       "  </thead>\n",
       "  <tbody>\n",
       "    <tr>\n",
       "      <th>0</th>\n",
       "      <td>A</td>\n",
       "      <td>E</td>\n",
       "      <td>A</td>\n",
       "      <td>105.7</td>\n",
       "      <td>109.2</td>\n",
       "      <td>101.8</td>\n",
       "      <td>NaN</td>\n",
       "      <td>NaN</td>\n",
       "      <td>NaN</td>\n",
       "      <td>NaN</td>\n",
       "      <td>NaN</td>\n",
       "      <td>NaN</td>\n",
       "      <td>NaN</td>\n",
       "      <td>MMA933</td>\n",
       "      <td>NaN</td>\n",
       "      <td>NaN</td>\n",
       "      <td>985170002003753;  425553341F</td>\n",
       "      <td>MMA926</td>\n",
       "      <td>99.8</td>\n",
       "      <td>102.7</td>\n",
       "      <td>77.1</td>\n",
       "      <td>NaN</td>\n",
       "      <td>Y</td>\n",
       "      <td>Mom broke one egg; false crawled 3 times befor...</td>\n",
       "      <td>2018-05-18</td>\n",
       "      <td>4.0</td>\n",
       "      <td>32.3</td>\n",
       "      <td>0.0</td>\n",
       "      <td>0</td>\n",
       "      <td>0</td>\n",
       "      <td>NaN</td>\n",
       "      <td>2.0</td>\n",
       "      <td>3.0</td>\n",
       "      <td>0.583333</td>\n",
       "      <td>3:23</td>\n",
       "      <td>13R</td>\n",
       "      <td>NaN</td>\n",
       "      <td>33.8603</td>\n",
       "      <td>-78.0053</td>\n",
       "      <td>clearing</td>\n",
       "      <td>N</td>\n",
       "      <td>2018-07-10</td>\n",
       "      <td>87.0</td>\n",
       "      <td>0.659091</td>\n",
       "      <td>53.0</td>\n",
       "      <td>6.0</td>\n",
       "      <td>1.0</td>\n",
       "      <td>37</td>\n",
       "      <td>Y</td>\n",
       "      <td>13R</td>\n",
       "      <td>33.8603</td>\n",
       "      <td>-78.0053</td>\n",
       "      <td>3.0</td>\n",
       "      <td>NaN</td>\n",
       "      <td>0.0</td>\n",
       "      <td>NaN</td>\n",
       "      <td>NaN</td>\n",
       "      <td>NaN</td>\n",
       "      <td>NaN</td>\n",
       "      <td>NaN</td>\n",
       "      <td>Cc</td>\n",
       "      <td>NaN</td>\n",
       "      <td>NaN</td>\n",
       "      <td>1:30</td>\n",
       "      <td>132.0</td>\n",
       "      <td>N</td>\n",
       "      <td>40.0</td>\n",
       "      <td>2018.0</td>\n",
       "      <td>985170002003753</td>\n",
       "      <td>425553341F</td>\n",
       "      <td>False</td>\n",
       "    </tr>\n",
       "    <tr>\n",
       "      <th>0</th>\n",
       "      <td>A</td>\n",
       "      <td>E</td>\n",
       "      <td>A</td>\n",
       "      <td>105.7</td>\n",
       "      <td>109.2</td>\n",
       "      <td>101.8</td>\n",
       "      <td>NaN</td>\n",
       "      <td>NaN</td>\n",
       "      <td>NaN</td>\n",
       "      <td>NaN</td>\n",
       "      <td>NaN</td>\n",
       "      <td>NaN</td>\n",
       "      <td>NaN</td>\n",
       "      <td>MMA933</td>\n",
       "      <td>NaN</td>\n",
       "      <td>NaN</td>\n",
       "      <td>985170002003753;  425553341F</td>\n",
       "      <td>MMA926</td>\n",
       "      <td>99.8</td>\n",
       "      <td>102.7</td>\n",
       "      <td>77.1</td>\n",
       "      <td>NaN</td>\n",
       "      <td>Y</td>\n",
       "      <td>Mom broke one egg; false crawled 3 times befor...</td>\n",
       "      <td>2018-05-18</td>\n",
       "      <td>4.0</td>\n",
       "      <td>32.3</td>\n",
       "      <td>0.0</td>\n",
       "      <td>0</td>\n",
       "      <td>0</td>\n",
       "      <td>NaN</td>\n",
       "      <td>2.0</td>\n",
       "      <td>3.0</td>\n",
       "      <td>0.583333</td>\n",
       "      <td>3:23</td>\n",
       "      <td>13R</td>\n",
       "      <td>NaN</td>\n",
       "      <td>33.8603</td>\n",
       "      <td>-78.0053</td>\n",
       "      <td>clearing</td>\n",
       "      <td>N</td>\n",
       "      <td>2018-07-10</td>\n",
       "      <td>87.0</td>\n",
       "      <td>0.659091</td>\n",
       "      <td>53.0</td>\n",
       "      <td>6.0</td>\n",
       "      <td>1.0</td>\n",
       "      <td>37</td>\n",
       "      <td>Y</td>\n",
       "      <td>13R</td>\n",
       "      <td>33.8603</td>\n",
       "      <td>-78.0053</td>\n",
       "      <td>3.0</td>\n",
       "      <td>NaN</td>\n",
       "      <td>0.0</td>\n",
       "      <td>NaN</td>\n",
       "      <td>NaN</td>\n",
       "      <td>NaN</td>\n",
       "      <td>NaN</td>\n",
       "      <td>NaN</td>\n",
       "      <td>Cc</td>\n",
       "      <td>NaN</td>\n",
       "      <td>NaN</td>\n",
       "      <td>1:30</td>\n",
       "      <td>132.0</td>\n",
       "      <td>N</td>\n",
       "      <td>40.0</td>\n",
       "      <td>2018.0</td>\n",
       "      <td>nan</td>\n",
       "      <td>nan</td>\n",
       "      <td>False</td>\n",
       "    </tr>\n",
       "    <tr>\n",
       "      <th>0</th>\n",
       "      <td>NaN</td>\n",
       "      <td>NaN</td>\n",
       "      <td>NaN</td>\n",
       "      <td>NaN</td>\n",
       "      <td>NaN</td>\n",
       "      <td>NaN</td>\n",
       "      <td>22.2</td>\n",
       "      <td>0</td>\n",
       "      <td>NaN</td>\n",
       "      <td>55.0</td>\n",
       "      <td>7/22/2019</td>\n",
       "      <td>33.85109</td>\n",
       "      <td>-77.96008</td>\n",
       "      <td>nan</td>\n",
       "      <td>Turquoise (RRZ287)</td>\n",
       "      <td>42L</td>\n",
       "      <td>NaN</td>\n",
       "      <td>nan</td>\n",
       "      <td>NaN</td>\n",
       "      <td>NaN</td>\n",
       "      <td>NaN</td>\n",
       "      <td>NaN</td>\n",
       "      <td>NaN</td>\n",
       "      <td>First nest of the season</td>\n",
       "      <td>2019-05-15</td>\n",
       "      <td>0.0</td>\n",
       "      <td>11.4</td>\n",
       "      <td>NaN</td>\n",
       "      <td>0</td>\n",
       "      <td></td>\n",
       "      <td>CC003288</td>\n",
       "      <td>1.0</td>\n",
       "      <td>0.0</td>\n",
       "      <td>41.0%</td>\n",
       "      <td>NaN</td>\n",
       "      <td>NaN</td>\n",
       "      <td>NaN</td>\n",
       "      <td></td>\n",
       "      <td></td>\n",
       "      <td>Not Seen</td>\n",
       "      <td>NaN</td>\n",
       "      <td>2019-07-19</td>\n",
       "      <td>41.0</td>\n",
       "      <td>41.0%</td>\n",
       "      <td>65.0</td>\n",
       "      <td>0.0</td>\n",
       "      <td>1.0</td>\n",
       "      <td>3</td>\n",
       "      <td>N</td>\n",
       "      <td>42L</td>\n",
       "      <td>33.8511</td>\n",
       "      <td>-77.9601</td>\n",
       "      <td>0.0</td>\n",
       "      <td>NaN</td>\n",
       "      <td>NaN</td>\n",
       "      <td>NaN</td>\n",
       "      <td></td>\n",
       "      <td>NaN</td>\n",
       "      <td>NaN</td>\n",
       "      <td>NaN</td>\n",
       "      <td>NaN</td>\n",
       "      <td>Cc</td>\n",
       "      <td>NaN</td>\n",
       "      <td>NaN</td>\n",
       "      <td>100.0</td>\n",
       "      <td>NaN</td>\n",
       "      <td>3.0</td>\n",
       "      <td>2019.0</td>\n",
       "      <td>985170002003753</td>\n",
       "      <td>425553341F</td>\n",
       "      <td>False</td>\n",
       "    </tr>\n",
       "    <tr>\n",
       "      <th>0</th>\n",
       "      <td>NaN</td>\n",
       "      <td>NaN</td>\n",
       "      <td>NaN</td>\n",
       "      <td>NaN</td>\n",
       "      <td>NaN</td>\n",
       "      <td>NaN</td>\n",
       "      <td>22.2</td>\n",
       "      <td>0</td>\n",
       "      <td>NaN</td>\n",
       "      <td>55.0</td>\n",
       "      <td>7/22/2019</td>\n",
       "      <td>33.85109</td>\n",
       "      <td>-77.96008</td>\n",
       "      <td>nan</td>\n",
       "      <td>Turquoise (RRZ287)</td>\n",
       "      <td>42L</td>\n",
       "      <td>NaN</td>\n",
       "      <td>nan</td>\n",
       "      <td>NaN</td>\n",
       "      <td>NaN</td>\n",
       "      <td>NaN</td>\n",
       "      <td>NaN</td>\n",
       "      <td>NaN</td>\n",
       "      <td>First nest of the season</td>\n",
       "      <td>2019-05-15</td>\n",
       "      <td>0.0</td>\n",
       "      <td>11.4</td>\n",
       "      <td>NaN</td>\n",
       "      <td>0</td>\n",
       "      <td></td>\n",
       "      <td>CC003288</td>\n",
       "      <td>1.0</td>\n",
       "      <td>0.0</td>\n",
       "      <td>41.0%</td>\n",
       "      <td>NaN</td>\n",
       "      <td>NaN</td>\n",
       "      <td>NaN</td>\n",
       "      <td></td>\n",
       "      <td></td>\n",
       "      <td>Not Seen</td>\n",
       "      <td>NaN</td>\n",
       "      <td>2019-07-19</td>\n",
       "      <td>41.0</td>\n",
       "      <td>41.0%</td>\n",
       "      <td>65.0</td>\n",
       "      <td>0.0</td>\n",
       "      <td>1.0</td>\n",
       "      <td>3</td>\n",
       "      <td>N</td>\n",
       "      <td>42L</td>\n",
       "      <td>33.8511</td>\n",
       "      <td>-77.9601</td>\n",
       "      <td>0.0</td>\n",
       "      <td>NaN</td>\n",
       "      <td>NaN</td>\n",
       "      <td>NaN</td>\n",
       "      <td></td>\n",
       "      <td>NaN</td>\n",
       "      <td>NaN</td>\n",
       "      <td>NaN</td>\n",
       "      <td>NaN</td>\n",
       "      <td>Cc</td>\n",
       "      <td>NaN</td>\n",
       "      <td>NaN</td>\n",
       "      <td>100.0</td>\n",
       "      <td>NaN</td>\n",
       "      <td>3.0</td>\n",
       "      <td>2019.0</td>\n",
       "      <td>nan</td>\n",
       "      <td>nan</td>\n",
       "      <td>False</td>\n",
       "    </tr>\n",
       "    <tr>\n",
       "      <th>1</th>\n",
       "      <td>E</td>\n",
       "      <td>E</td>\n",
       "      <td>A</td>\n",
       "      <td>109.1</td>\n",
       "      <td>111.9</td>\n",
       "      <td>100.1</td>\n",
       "      <td>NaN</td>\n",
       "      <td>NaN</td>\n",
       "      <td>NaN</td>\n",
       "      <td>NaN</td>\n",
       "      <td>NaN</td>\n",
       "      <td>NaN</td>\n",
       "      <td>NaN</td>\n",
       "      <td>UUT616</td>\n",
       "      <td>NaN</td>\n",
       "      <td>NaN</td>\n",
       "      <td>470D277210</td>\n",
       "      <td>MMA925</td>\n",
       "      <td>100.7</td>\n",
       "      <td>102.6</td>\n",
       "      <td>76.1</td>\n",
       "      <td>NaN</td>\n",
       "      <td>Y</td>\n",
       "      <td>Billie; heavy rain throughout week of hatching...</td>\n",
       "      <td>2018-05-27</td>\n",
       "      <td>2.0</td>\n",
       "      <td>27.9</td>\n",
       "      <td>0.0</td>\n",
       "      <td>11.5</td>\n",
       "      <td>0</td>\n",
       "      <td>NaN</td>\n",
       "      <td>1.0</td>\n",
       "      <td>5.0</td>\n",
       "      <td>0.743902</td>\n",
       "      <td>0:58</td>\n",
       "      <td>42R</td>\n",
       "      <td>NaN</td>\n",
       "      <td>33.8497</td>\n",
       "      <td>-77.9599</td>\n",
       "      <td>laying</td>\n",
       "      <td>N</td>\n",
       "      <td>2018-07-24</td>\n",
       "      <td>143.0</td>\n",
       "      <td>0.871951</td>\n",
       "      <td>58.0</td>\n",
       "      <td>19.0</td>\n",
       "      <td>2.0</td>\n",
       "      <td>9</td>\n",
       "      <td>Y</td>\n",
       "      <td>42R</td>\n",
       "      <td>33.84</td>\n",
       "      <td>-77.95</td>\n",
       "      <td>6.0</td>\n",
       "      <td>NaN</td>\n",
       "      <td>0.0</td>\n",
       "      <td>NaN</td>\n",
       "      <td>NaN</td>\n",
       "      <td>NaN</td>\n",
       "      <td>NaN</td>\n",
       "      <td>NaN</td>\n",
       "      <td>Cc</td>\n",
       "      <td>NaN</td>\n",
       "      <td>NaN</td>\n",
       "      <td>23:50</td>\n",
       "      <td>164.0</td>\n",
       "      <td>N</td>\n",
       "      <td>14.0</td>\n",
       "      <td>2018.0</td>\n",
       "      <td>470D277210</td>\n",
       "      <td>None</td>\n",
       "      <td>False</td>\n",
       "    </tr>\n",
       "  </tbody>\n",
       "</table>\n",
       "</div>"
      ],
      "text/plain": [
       "   AE1  AE2  AE3    CNN    CNT     CW Dist. Tide Line (m) Dist. Veg. (m)  \\\n",
       "0    A    E    A  105.7  109.2  101.8                 NaN            NaN   \n",
       "0    A    E    A  105.7  109.2  101.8                 NaN            NaN   \n",
       "0  NaN  NaN  NaN    NaN    NaN    NaN                22.2              0   \n",
       "0  NaN  NaN  NaN    NaN    NaN    NaN                22.2              0   \n",
       "1    E    E    A  109.1  111.9  100.1                 NaN            NaN   \n",
       "\n",
       "   Eggs in situ  EggsPredated Excavation Date  Incubation Lat  \\\n",
       "0           NaN           NaN             NaN             NaN   \n",
       "0           NaN           NaN             NaN             NaN   \n",
       "0           NaN          55.0       7/22/2019        33.85109   \n",
       "0           NaN          55.0       7/22/2019        33.85109   \n",
       "1           NaN           NaN             NaN             NaN   \n",
       "\n",
       "   Incubation Long     LFF Legacy Name        (Tag Name) Location  \\\n",
       "0              NaN  MMA933                           NaN      NaN   \n",
       "0              NaN  MMA933                           NaN      NaN   \n",
       "0        -77.96008     nan            Turquoise (RRZ287)      42L   \n",
       "0        -77.96008     nan            Turquoise (RRZ287)      42L   \n",
       "1              NaN  UUT616                           NaN      NaN   \n",
       "\n",
       "                            PIT     RFF    SNN    SNT    SW access biopsy  \\\n",
       "0  985170002003753;  425553341F  MMA926   99.8  102.7  77.1    NaN      Y   \n",
       "0  985170002003753;  425553341F  MMA926   99.8  102.7  77.1    NaN      Y   \n",
       "0                           NaN     nan    NaN    NaN   NaN    NaN    NaN   \n",
       "0                           NaN     nan    NaN    NaN   NaN    NaN    NaN   \n",
       "1                    470D277210  MMA925  100.7  102.6  76.1    NaN      Y   \n",
       "\n",
       "                                            comments       date  dead disHT  \\\n",
       "0  Mom broke one egg; false crawled 3 times befor... 2018-05-18   4.0  32.3   \n",
       "0  Mom broke one egg; false crawled 3 times befor... 2018-05-18   4.0  32.3   \n",
       "0                           First nest of the season 2019-05-15   0.0  11.4   \n",
       "0                           First nest of the season 2019-05-15   0.0  11.4   \n",
       "1  Billie; heavy rain throughout week of hatching... 2018-05-27   2.0  27.9   \n",
       "\n",
       "   disHT2 disVeg disVeg2    dna_id  eggs_taken  embryo emergesuccess  \\\n",
       "0     0.0      0       0       NaN         2.0     3.0      0.583333   \n",
       "0     0.0      0       0       NaN         2.0     3.0      0.583333   \n",
       "0     NaN      0          CC003288         1.0     0.0         41.0%   \n",
       "0     NaN      0          CC003288         1.0     0.0         41.0%   \n",
       "1     0.0   11.5       0       NaN         1.0     5.0      0.743902   \n",
       "\n",
       "  exit_time final_access final_acess final_lat final_long first_action  \\\n",
       "0      3:23          13R         NaN   33.8603   -78.0053     clearing   \n",
       "0      3:23          13R         NaN   33.8603   -78.0053     clearing   \n",
       "0       NaN          NaN         NaN                          Not Seen   \n",
       "0       NaN          NaN         NaN                          Not Seen   \n",
       "1      0:58          42R         NaN   33.8497   -77.9599       laying   \n",
       "\n",
       "  goforth  hatchdate  hatched hatchsuccess  incubation  live  nest no_embryo  \\\n",
       "0       N 2018-07-10     87.0     0.659091        53.0   6.0   1.0        37   \n",
       "0       N 2018-07-10     87.0     0.659091        53.0   6.0   1.0        37   \n",
       "0     NaN 2019-07-19     41.0        41.0%        65.0   0.0   1.0         3   \n",
       "0     NaN 2019-07-19     41.0        41.0%        65.0   0.0   1.0         3   \n",
       "1       N 2018-07-24    143.0     0.871951        58.0  19.0   2.0         9   \n",
       "\n",
       "  observed orig_beach orig_lat orig_long  pipped prev_tags  rel_eggs  \\\n",
       "0        Y        13R  33.8603  -78.0053     3.0       NaN       0.0   \n",
       "0        Y        13R  33.8603  -78.0053     3.0       NaN       0.0   \n",
       "0        N        42L  33.8511  -77.9601     0.0       NaN       NaN   \n",
       "0        N        42L  33.8511  -77.9601     0.0       NaN       NaN   \n",
       "1        Y        42R    33.84    -77.95     6.0       NaN       0.0   \n",
       "\n",
       "  reloc_access reloc_beach  reloc_lat  reloc_long returning_turtle species  \\\n",
       "0          NaN         NaN        NaN         NaN              NaN      Cc   \n",
       "0          NaN         NaN        NaN         NaN              NaN      Cc   \n",
       "0          NaN                    NaN         NaN              NaN     NaN   \n",
       "0          NaN                    NaN         NaN              NaN     NaN   \n",
       "1          NaN         NaN        NaN         NaN              NaN      Cc   \n",
       "\n",
       "  speciesLegacy Name(Tag Name) tags   time  total_eggs treatment  unhatched  \\\n",
       "0                          NaN  NaN   1:30       132.0         N       40.0   \n",
       "0                          NaN  NaN   1:30       132.0         N       40.0   \n",
       "0                           Cc  NaN    NaN       100.0       NaN        3.0   \n",
       "0                           Cc  NaN    NaN       100.0       NaN        3.0   \n",
       "1                          NaN  NaN  23:50       164.0         N       14.0   \n",
       "\n",
       "     year             PIT1          PIT2   look  \n",
       "0  2018.0  985170002003753    425553341F  False  \n",
       "0  2018.0              nan           nan  False  \n",
       "0  2019.0  985170002003753    425553341F  False  \n",
       "0  2019.0              nan           nan  False  \n",
       "1  2018.0       470D277210          None  False  "
      ]
     },
     "execution_count": 23,
     "metadata": {},
     "output_type": "execute_result"
    }
   ],
   "source": [
    "import re\n",
    "big['look']=big['comments'].str.contains(r'\\w{3}\\d{3}')\n",
    "#re.findall(r'\\w{3}\\d{3}',turtles['comments'])\n",
    "big.head()"
   ]
  },
  {
   "cell_type": "code",
   "execution_count": 24,
   "metadata": {
    "ExecuteTime": {
     "end_time": "2020-02-26T15:16:10.053277Z",
     "start_time": "2020-02-26T15:16:09.974658Z"
    }
   },
   "outputs": [
    {
     "name": "stderr",
     "output_type": "stream",
     "text": [
      "C:\\ProgramData\\Anaconda3\\lib\\site-packages\\ipykernel_launcher.py:1: UserWarning: This pattern has match groups. To actually get the groups, use str.extract.\n",
      "  \"\"\"Entry point for launching an IPython kernel.\n"
     ]
    }
   ],
   "source": [
    "pat = turtles['comments'].str.contains(r'(.*);(.*)') # First group is everything before the;. second group is everything after the;"
   ]
  },
  {
   "cell_type": "markdown",
   "metadata": {},
   "source": [
    "# Sample Backfilling "
   ]
  },
  {
   "cell_type": "code",
   "execution_count": 25,
   "metadata": {
    "ExecuteTime": {
     "end_time": "2020-02-26T15:16:11.719077Z",
     "start_time": "2020-02-26T15:16:11.661221Z"
    }
   },
   "outputs": [],
   "source": [
    "import numpy as np\n",
    "df1 = big.replace(np.nan, '', regex=True)"
   ]
  },
  {
   "cell_type": "code",
   "execution_count": 26,
   "metadata": {
    "ExecuteTime": {
     "end_time": "2020-02-26T15:16:13.393061Z",
     "start_time": "2020-02-26T15:16:13.385398Z"
    }
   },
   "outputs": [
    {
     "name": "stdout",
     "output_type": "stream",
     "text": [
      "number of turtles with repeats 4250\n",
      "number of inividual turtles 346\n"
     ]
    }
   ],
   "source": [
    "pitlist=[]\n",
    "for i in big.PIT:\n",
    "    pitlist.append(i)\n",
    "print('number of turtles with repeats', len(pitlist))\n",
    "pitset=set(pitlist) #this drops any duplicates and gives a list of unique PIT tags\n",
    "print('number of inividual turtles',len(pitset)) #309 individual turtles"
   ]
  },
  {
   "cell_type": "code",
   "execution_count": null,
   "metadata": {},
   "outputs": [],
   "source": []
  },
  {
   "cell_type": "code",
   "execution_count": 35,
   "metadata": {
    "ExecuteTime": {
     "end_time": "2020-02-26T15:44:46.208597Z",
     "start_time": "2020-02-26T15:44:46.201204Z"
    }
   },
   "outputs": [],
   "source": [
    "big.PIT1 = big.PIT1.astype(str)\n",
    "big.PIT2 = big.PIT2.astype(str)"
   ]
  },
  {
   "cell_type": "code",
   "execution_count": 36,
   "metadata": {
    "ExecuteTime": {
     "end_time": "2020-02-26T15:44:49.006362Z",
     "start_time": "2020-02-26T15:44:48.988077Z"
    }
   },
   "outputs": [
    {
     "name": "stdout",
     "output_type": "stream",
     "text": [
      "<class 'pandas.core.frame.DataFrame'>\n",
      "Int64Index: 4250 entries, 0 to 3550\n",
      "Data columns (total 71 columns):\n",
      "AE1                              978 non-null object\n",
      "AE2                              1589 non-null object\n",
      "AE3                              1564 non-null object\n",
      "CNN                              1035 non-null float64\n",
      "CNT                              2566 non-null float64\n",
      "CW                               2570 non-null float64\n",
      "Dist. Tide Line (m)              276 non-null object\n",
      "Dist. Veg. (m)                   334 non-null object\n",
      "Eggs in situ                     58 non-null float64\n",
      "EggsPredated                     340 non-null float64\n",
      "Excavation Date                  334 non-null object\n",
      "Incubation Lat                   336 non-null float64\n",
      "Incubation Long                  336 non-null float64\n",
      "LFF                              4250 non-null object\n",
      "Legacy Name        (Tag Name)    340 non-null object\n",
      "Location                         340 non-null object\n",
      "PIT                              1071 non-null object\n",
      "RFF                              4250 non-null object\n",
      "SNN                              961 non-null float64\n",
      "SNT                              1907 non-null float64\n",
      "SW                               1915 non-null object\n",
      "access                           2440 non-null object\n",
      "biopsy                           901 non-null object\n",
      "comments                         2007 non-null object\n",
      "date                             4088 non-null datetime64[ns]\n",
      "dead                             2584 non-null float64\n",
      "disHT                            1528 non-null object\n",
      "disHT2                           222 non-null float64\n",
      "disVeg                           713 non-null object\n",
      "disVeg2                          614 non-null object\n",
      "dna_id                           189 non-null object\n",
      "eggs_taken                       1681 non-null float64\n",
      "embryo                           386 non-null float64\n",
      "emergesuccess                    1358 non-null object\n",
      "exit_time                        447 non-null object\n",
      "final_access                     104 non-null object\n",
      "final_acess                      2831 non-null object\n",
      "final_lat                        2023 non-null object\n",
      "final_long                       2023 non-null object\n",
      "first_action                     468 non-null object\n",
      "goforth                          102 non-null object\n",
      "hatchdate                        2562 non-null datetime64[ns]\n",
      "hatched                          3512 non-null float64\n",
      "hatchsuccess                     1412 non-null object\n",
      "incubation                       2712 non-null float64\n",
      "live                             2682 non-null float64\n",
      "nest                             4124 non-null float64\n",
      "no_embryo                        388 non-null object\n",
      "observed                         3034 non-null object\n",
      "orig_beach                       1093 non-null object\n",
      "orig_lat                         1901 non-null object\n",
      "orig_long                        1902 non-null object\n",
      "pipped                           2277 non-null float64\n",
      "prev_tags                        33 non-null object\n",
      "rel_eggs                         1769 non-null float64\n",
      "reloc_access                     1034 non-null object\n",
      "reloc_beach                      646 non-null object\n",
      "reloc_lat                        413 non-null float64\n",
      "reloc_long                       414 non-null float64\n",
      "returning_turtle                 39 non-null object\n",
      "species                          2569 non-null object\n",
      "speciesLegacy Name(Tag Name)     340 non-null object\n",
      "tags                             74 non-null object\n",
      "time                             3242 non-null object\n",
      "total_eggs                       1412 non-null float64\n",
      "treatment                        3872 non-null object\n",
      "unhatched                        2951 non-null float64\n",
      "year                             4214 non-null float64\n",
      "PIT1                             4250 non-null object\n",
      "PIT2                             4250 non-null object\n",
      "look                             2007 non-null object\n",
      "dtypes: datetime64[ns](2), float64(24), object(45)\n",
      "memory usage: 2.5+ MB\n"
     ]
    }
   ],
   "source": [
    "#big.LFF.dtype\n",
    "big.info()"
   ]
  },
  {
   "cell_type": "code",
   "execution_count": 37,
   "metadata": {
    "ExecuteTime": {
     "end_time": "2020-02-26T15:44:53.268279Z",
     "start_time": "2020-02-26T15:44:53.253133Z"
    }
   },
   "outputs": [
    {
     "ename": "TypeError",
     "evalue": "'Series' objects are mutable, thus they cannot be hashed",
     "output_type": "error",
     "traceback": [
      "\u001b[1;31m---------------------------------------------------------------------------\u001b[0m",
      "\u001b[1;31mTypeError\u001b[0m                                 Traceback (most recent call last)",
      "\u001b[1;32m<ipython-input-37-29ef7a8650b2>\u001b[0m in \u001b[0;36m<module>\u001b[1;34m\u001b[0m\n\u001b[0;32m      1\u001b[0m \u001b[0mturt_dict\u001b[0m \u001b[1;33m=\u001b[0m\u001b[1;33m{\u001b[0m\u001b[1;33m}\u001b[0m\u001b[1;33m\u001b[0m\u001b[1;33m\u001b[0m\u001b[0m\n\u001b[0;32m      2\u001b[0m \u001b[1;32mfor\u001b[0m \u001b[0mi\u001b[0m \u001b[1;32min\u001b[0m \u001b[0mrange\u001b[0m\u001b[1;33m(\u001b[0m\u001b[0mlen\u001b[0m\u001b[1;33m(\u001b[0m\u001b[0mbig\u001b[0m\u001b[1;33m.\u001b[0m\u001b[0mPIT1\u001b[0m\u001b[1;33m)\u001b[0m\u001b[1;33m)\u001b[0m\u001b[1;33m:\u001b[0m\u001b[1;33m\u001b[0m\u001b[1;33m\u001b[0m\u001b[0m\n\u001b[1;32m----> 3\u001b[1;33m     \u001b[0mturt_dict\u001b[0m\u001b[1;33m[\u001b[0m\u001b[0mbig\u001b[0m\u001b[1;33m.\u001b[0m\u001b[0mPIT1\u001b[0m\u001b[1;33m[\u001b[0m\u001b[0mi\u001b[0m\u001b[1;33m]\u001b[0m\u001b[1;33m]\u001b[0m\u001b[1;33m=\u001b[0m \u001b[0mbig\u001b[0m\u001b[1;33m.\u001b[0m\u001b[0mPIT2\u001b[0m\u001b[1;33m[\u001b[0m\u001b[0mi\u001b[0m\u001b[1;33m]\u001b[0m\u001b[1;33m\u001b[0m\u001b[1;33m\u001b[0m\u001b[0m\n\u001b[0m\u001b[0;32m      4\u001b[0m \u001b[1;33m\u001b[0m\u001b[0m\n\u001b[0;32m      5\u001b[0m \u001b[0mturt_dict\u001b[0m\u001b[1;33m\u001b[0m\u001b[1;33m\u001b[0m\u001b[0m\n",
      "\u001b[1;32mC:\\ProgramData\\Anaconda3\\lib\\site-packages\\pandas\\core\\generic.py\u001b[0m in \u001b[0;36m__hash__\u001b[1;34m(self)\u001b[0m\n\u001b[0;32m   1814\u001b[0m     \u001b[1;32mdef\u001b[0m \u001b[0m__hash__\u001b[0m\u001b[1;33m(\u001b[0m\u001b[0mself\u001b[0m\u001b[1;33m)\u001b[0m\u001b[1;33m:\u001b[0m\u001b[1;33m\u001b[0m\u001b[1;33m\u001b[0m\u001b[0m\n\u001b[0;32m   1815\u001b[0m         raise TypeError('{0!r} objects are mutable, thus they cannot be'\n\u001b[1;32m-> 1816\u001b[1;33m                         ' hashed'.format(self.__class__.__name__))\n\u001b[0m\u001b[0;32m   1817\u001b[0m \u001b[1;33m\u001b[0m\u001b[0m\n\u001b[0;32m   1818\u001b[0m     \u001b[1;32mdef\u001b[0m \u001b[0m__iter__\u001b[0m\u001b[1;33m(\u001b[0m\u001b[0mself\u001b[0m\u001b[1;33m)\u001b[0m\u001b[1;33m:\u001b[0m\u001b[1;33m\u001b[0m\u001b[1;33m\u001b[0m\u001b[0m\n",
      "\u001b[1;31mTypeError\u001b[0m: 'Series' objects are mutable, thus they cannot be hashed"
     ]
    }
   ],
   "source": [
    "turt_dict ={}\n",
    "for i in range(len(big.PIT1)):\n",
    "    turt_dict[big.PIT1[i]]= big.PIT2[i]\n",
    "\n",
    "turt_dict"
   ]
  },
  {
   "cell_type": "code",
   "execution_count": 28,
   "metadata": {
    "ExecuteTime": {
     "end_time": "2020-02-26T15:16:22.416269Z",
     "start_time": "2020-02-26T15:16:22.099511Z"
    }
   },
   "outputs": [
    {
     "ename": "TypeError",
     "evalue": "'Series' objects are mutable, thus they cannot be hashed",
     "output_type": "error",
     "traceback": [
      "\u001b[1;31m---------------------------------------------------------------------------\u001b[0m",
      "\u001b[1;31mTypeError\u001b[0m                                 Traceback (most recent call last)",
      "\u001b[1;32m<ipython-input-28-5abde075edd3>\u001b[0m in \u001b[0;36m<module>\u001b[1;34m\u001b[0m\n\u001b[0;32m      3\u001b[0m \u001b[1;31m#if turtles.PIT2!='None':\u001b[0m\u001b[1;33m\u001b[0m\u001b[1;33m\u001b[0m\u001b[1;33m\u001b[0m\u001b[0m\n\u001b[0;32m      4\u001b[0m \u001b[1;32mfor\u001b[0m \u001b[0mi\u001b[0m \u001b[1;32min\u001b[0m \u001b[0mrange\u001b[0m\u001b[1;33m(\u001b[0m\u001b[0mlen\u001b[0m\u001b[1;33m(\u001b[0m\u001b[0mbig\u001b[0m\u001b[1;33m.\u001b[0m\u001b[0mPIT1\u001b[0m\u001b[1;33m)\u001b[0m\u001b[1;33m)\u001b[0m\u001b[1;33m:\u001b[0m\u001b[1;33m\u001b[0m\u001b[1;33m\u001b[0m\u001b[0m\n\u001b[1;32m----> 5\u001b[1;33m     \u001b[0mturt_dict\u001b[0m\u001b[1;33m[\u001b[0m\u001b[0mbig\u001b[0m\u001b[1;33m.\u001b[0m\u001b[0mPIT1\u001b[0m\u001b[1;33m[\u001b[0m\u001b[0mi\u001b[0m\u001b[1;33m]\u001b[0m\u001b[1;33m]\u001b[0m\u001b[1;33m=\u001b[0m\u001b[1;33m(\u001b[0m\u001b[0mbig\u001b[0m\u001b[1;33m.\u001b[0m\u001b[0mPIT2\u001b[0m\u001b[1;33m[\u001b[0m\u001b[0mi\u001b[0m\u001b[1;33m]\u001b[0m\u001b[1;33m)\u001b[0m\u001b[1;33m,\u001b[0m \u001b[0mbig\u001b[0m\u001b[1;33m.\u001b[0m\u001b[0mRFF\u001b[0m\u001b[1;33m[\u001b[0m\u001b[0mi\u001b[0m\u001b[1;33m]\u001b[0m\u001b[1;33m,\u001b[0m \u001b[0mbig\u001b[0m\u001b[1;33m.\u001b[0m\u001b[0mLFF\u001b[0m\u001b[1;33m[\u001b[0m\u001b[0mi\u001b[0m\u001b[1;33m]\u001b[0m\u001b[1;33m\u001b[0m\u001b[1;33m\u001b[0m\u001b[0m\n\u001b[0m\u001b[0;32m      6\u001b[0m \u001b[1;33m\u001b[0m\u001b[0m\n\u001b[0;32m      7\u001b[0m \u001b[0mturt_dict\u001b[0m\u001b[1;33m\u001b[0m\u001b[1;33m\u001b[0m\u001b[0m\n",
      "\u001b[1;32mC:\\ProgramData\\Anaconda3\\lib\\site-packages\\pandas\\core\\generic.py\u001b[0m in \u001b[0;36m__hash__\u001b[1;34m(self)\u001b[0m\n\u001b[0;32m   1814\u001b[0m     \u001b[1;32mdef\u001b[0m \u001b[0m__hash__\u001b[0m\u001b[1;33m(\u001b[0m\u001b[0mself\u001b[0m\u001b[1;33m)\u001b[0m\u001b[1;33m:\u001b[0m\u001b[1;33m\u001b[0m\u001b[1;33m\u001b[0m\u001b[0m\n\u001b[0;32m   1815\u001b[0m         raise TypeError('{0!r} objects are mutable, thus they cannot be'\n\u001b[1;32m-> 1816\u001b[1;33m                         ' hashed'.format(self.__class__.__name__))\n\u001b[0m\u001b[0;32m   1817\u001b[0m \u001b[1;33m\u001b[0m\u001b[0m\n\u001b[0;32m   1818\u001b[0m     \u001b[1;32mdef\u001b[0m \u001b[0m__iter__\u001b[0m\u001b[1;33m(\u001b[0m\u001b[0mself\u001b[0m\u001b[1;33m)\u001b[0m\u001b[1;33m:\u001b[0m\u001b[1;33m\u001b[0m\u001b[1;33m\u001b[0m\u001b[0m\n",
      "\u001b[1;31mTypeError\u001b[0m: 'Series' objects are mutable, thus they cannot be hashed"
     ]
    }
   ],
   "source": [
    "turt_dict ={}\n",
    "#for i i\n",
    "#if turtles.PIT2!='None':\n",
    "for i in range(len(big.PIT1)):\n",
    "    turt_dict[big.PIT1[i]]=(big.PIT2[i]), big.RFF[i], big.LFF[i]\n",
    "\n",
    "turt_dict\n",
    "\n",
    "#turt_dict[turtles.PIT1[i]]=(turtles.PIT2[i]!='None')\n",
    "#print(len(turt_dict))\n",
    "#dict2={}\n",
    "\n",
    "#for k,v in turt_dict:\n",
    " #   if turt_dict[k]!='none':\n",
    "  #      dict2[k]=v"
   ]
  },
  {
   "cell_type": "code",
   "execution_count": 21,
   "metadata": {
    "ExecuteTime": {
     "end_time": "2020-02-12T15:07:11.828473Z",
     "start_time": "2020-02-12T15:07:11.824088Z"
    }
   },
   "outputs": [],
   "source": [
    "#created primary key, yet to deal with "
   ]
  },
  {
   "cell_type": "code",
   "execution_count": 22,
   "metadata": {
    "ExecuteTime": {
     "end_time": "2020-02-12T15:07:12.099795Z",
     "start_time": "2020-02-12T15:07:12.090802Z"
    }
   },
   "outputs": [],
   "source": [
    "#Kendall: focus on spaces before/after and slashes and separating pit tag into two entries. \n",
    "#or maybe an extra column rather than extra row, extra column for double pit. This is easier for back filling code. \n",
    "#scan comments for 3letter/3number combos for LFF/RFF\n",
    "#PIT? Scan comments or leave alone. \n",
    "\n",
    "#NEW PLAN, work on 2019, deal with this later."
   ]
  },
  {
   "cell_type": "code",
   "execution_count": null,
   "metadata": {},
   "outputs": [],
   "source": []
  }
 ],
 "metadata": {
  "hide_input": false,
  "kernelspec": {
   "display_name": "Python 3",
   "language": "python",
   "name": "python3"
  },
  "language_info": {
   "codemirror_mode": {
    "name": "ipython",
    "version": 3
   },
   "file_extension": ".py",
   "mimetype": "text/x-python",
   "name": "python",
   "nbconvert_exporter": "python",
   "pygments_lexer": "ipython3",
   "version": "3.7.3"
  },
  "toc": {
   "base_numbering": 1,
   "nav_menu": {},
   "number_sections": true,
   "sideBar": true,
   "skip_h1_title": false,
   "title_cell": "Table of Contents",
   "title_sidebar": "Contents",
   "toc_cell": false,
   "toc_position": {},
   "toc_section_display": true,
   "toc_window_display": false
  },
  "varInspector": {
   "cols": {
    "lenName": 16,
    "lenType": 16,
    "lenVar": 40
   },
   "kernels_config": {
    "python": {
     "delete_cmd_postfix": "",
     "delete_cmd_prefix": "del ",
     "library": "var_list.py",
     "varRefreshCmd": "print(var_dic_list())"
    },
    "r": {
     "delete_cmd_postfix": ") ",
     "delete_cmd_prefix": "rm(",
     "library": "var_list.r",
     "varRefreshCmd": "cat(var_dic_list()) "
    }
   },
   "types_to_exclude": [
    "module",
    "function",
    "builtin_function_or_method",
    "instance",
    "_Feature"
   ],
   "window_display": false
  }
 },
 "nbformat": 4,
 "nbformat_minor": 2
}
